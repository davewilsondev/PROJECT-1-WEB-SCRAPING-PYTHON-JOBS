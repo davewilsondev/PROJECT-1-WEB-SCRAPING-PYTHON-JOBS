{
 "cells": [
  {
   "cell_type": "code",
   "execution_count": 1,
   "metadata": {},
   "outputs": [],
   "source": [
    "# Get the data from indeed.co.uk through Beautiful Soup "
   ]
  },
  {
   "cell_type": "code",
   "execution_count": 2,
   "metadata": {},
   "outputs": [],
   "source": [
    "import requests\n",
    "from bs4 import BeautifulSoup\n",
    "import time"
   ]
  },
  {
   "cell_type": "code",
   "execution_count": 6,
   "metadata": {},
   "outputs": [],
   "source": [
    "jobType = \"python\"\n",
    "loc = \"london\"\n",
    "searchTerm = \"q=\" + jobType \"&l=\" + loc"
   ]
  },
  {
   "cell_type": "code",
   "execution_count": null,
   "metadata": {},
   "outputs": [],
   "source": [
    "# Search filter options "
   ]
  },
  {
   "cell_type": "code",
   "execution_count": null,
   "metadata": {},
   "outputs": [],
   "source": [
    "r = requests.get(r\"https://www.indeed.co.uk/jobs?\" + searchTerm)\n",
    "c = r.content"
   ]
  },
  {
   "cell_type": "code",
   "execution_count": 8,
   "metadata": {},
   "outputs": [],
   "source": [
    "# https://www.indeed.co.uk/jobs?q=python&l=london&start=0\n",
    "# think about adding the filters in for these. \n",
    "# Get how many page numbers there are. Build the for loop to loop through this. \n",
    "\n",
    "# Get only jobs within the last 24h\n",
    "\n",
    "# Get the script to autorun at certain time of day. \n",
    "\n",
    "# Create the top 50 skills and create a spreadsheet of this. \n",
    "\n",
    "# Get the script to tally how many times it appears. \n",
    "\n",
    "# output a excel table. With date and time stamp. \n",
    "\n",
    "# try to do some analysis on the results. \n",
    "\n",
    "# try to do some analysis over the year. \n",
    "\n",
    "# Try to create some impressive visuals \n",
    "\n",
    "# can I auto-upload my files to github. \n",
    "\n",
    "# Look at doing this with some other jobs and fields.\n",
    "\n",
    "# Look at doing this as UK general\n",
    "\n",
    "# Look at doing this for Europe\n",
    "\n",
    "# Look at doing this for US\n",
    "\n",
    "# Start incoorporating maps data - Jobs / sq/mile \n",
    "\n",
    "# How can I automate all of this?"
   ]
  },
  {
   "cell_type": "code",
   "execution_count": null,
   "metadata": {},
   "outputs": [],
   "source": []
  },
  {
   "cell_type": "code",
   "execution_count": null,
   "metadata": {},
   "outputs": [],
   "source": []
  },
  {
   "cell_type": "code",
   "execution_count": null,
   "metadata": {},
   "outputs": [],
   "source": []
  },
  {
   "cell_type": "code",
   "execution_count": null,
   "metadata": {},
   "outputs": [],
   "source": []
  },
  {
   "cell_type": "code",
   "execution_count": null,
   "metadata": {},
   "outputs": [],
   "source": []
  },
  {
   "cell_type": "code",
   "execution_count": null,
   "metadata": {},
   "outputs": [],
   "source": []
  },
  {
   "cell_type": "code",
   "execution_count": null,
   "metadata": {},
   "outputs": [],
   "source": []
  },
  {
   "cell_type": "code",
   "execution_count": null,
   "metadata": {},
   "outputs": [],
   "source": []
  }
 ],
 "metadata": {
  "kernelspec": {
   "display_name": "Python 3",
   "language": "python",
   "name": "python3"
  },
  "language_info": {
   "codemirror_mode": {
    "name": "ipython",
    "version": 3
   },
   "file_extension": ".py",
   "mimetype": "text/x-python",
   "name": "python",
   "nbconvert_exporter": "python",
   "pygments_lexer": "ipython3",
   "version": "3.6.4"
  }
 },
 "nbformat": 4,
 "nbformat_minor": 2
}
